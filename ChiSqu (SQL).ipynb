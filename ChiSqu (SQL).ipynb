{
 "cells": [
  {
   "cell_type": "code",
   "execution_count": 11,
   "id": "c7c74a8b",
   "metadata": {},
   "outputs": [],
   "source": [
    "import pandas as pd\n",
    "import numpy as np\n",
    "import seaborn as sns\n",
    "import matplotlib.pyplot as plt\n",
    "import scipy.stats as stats\n",
    "from sqlalchemy import create_engine\n",
    "from snowflake.sqlalchemy import URL\n",
    "\n",
    "import warnings\n",
    "warnings.filterwarnings('ignore')"
   ]
  },
  {
   "cell_type": "code",
   "execution_count": null,
   "id": "25e3dcd4",
   "metadata": {},
   "outputs": [],
   "source": [
    "#Критерий Хи-квадарт позволяет нам сравнить отношения количества успеха к неуспехам в таблицах"
   ]
  },
  {
   "cell_type": "code",
   "execution_count": 12,
   "id": "8391c873",
   "metadata": {},
   "outputs": [],
   "source": [
    "url = URL(\n",
    "    user=\"ABUHTAREVICH\",\n",
    "    password=\"/\",\n",
    "    account=\"/\",\n",
    "    warehouse=\"COMPUTE_WH\",\n",
    "    database=\"SEVEREX\",\n",
    "    schema=\"/\",\n",
    "    #role='xxxxx',\n",
    "    #authenticator='https://xxxxx.okta.com',\n",
    ")\n",
    "engine = create_engine(url)\n",
    "connection = engine.connect()"
   ]
  },
  {
   "cell_type": "code",
   "execution_count": 13,
   "id": "86ff99fe",
   "metadata": {},
   "outputs": [],
   "source": [
    "query_checking = '''\n",
    "with t1 as (\n",
    "select *,\n",
    "  datediff(day, date(INSTALL_TIME), date(EVENT_TIME)) as day,\n",
    "  max(event_value:group_name::string) over(partition by appsflyer_id) as group_name,\n",
    "  max(event_value:test_name::string) over(partition by appsflyer_id) as test_name\n",
    "   from t_events\n",
    "where \n",
    "    APP_ID = 'id1265751053'\n",
    "   and date(EVENT_TIME) between '2022-08-09' and '2022-11-02'\n",
    "   and date(INSTALL_TIME) between '2022-08-09' and '2022-10-29'\n",
    "),\n",
    "t2 as(\n",
    "select appsflyer_id, \n",
    "       group_name,\n",
    "       iff(max(event_name = 'trial_started') over(partition by appsflyer_id), 1,0) as conversion\n",
    "from t1\n",
    "where group_name in ('Control', 'Variant_A', 'Variant_B')\n",
    "and test_name = 'Landing_7UK'\n",
    "order by 1\n",
    ")\n",
    "\n",
    "select distinct APPSFLYER_ID,\n",
    "       group_name,\n",
    "       conversion\n",
    "from t2\n",
    "'''"
   ]
  },
  {
   "cell_type": "code",
   "execution_count": 14,
   "id": "bb81b7e3",
   "metadata": {},
   "outputs": [],
   "source": [
    "checking = pd.read_sql(query_checking, connection)"
   ]
  },
  {
   "cell_type": "code",
   "execution_count": null,
   "id": "0b1e90b5",
   "metadata": {},
   "outputs": [],
   "source": [
    "#создали результаты теста конверсии"
   ]
  },
  {
   "cell_type": "code",
   "execution_count": 15,
   "id": "0b4f4cc6",
   "metadata": {},
   "outputs": [
    {
     "data": {
      "text/html": [
       "<div>\n",
       "<style scoped>\n",
       "    .dataframe tbody tr th:only-of-type {\n",
       "        vertical-align: middle;\n",
       "    }\n",
       "\n",
       "    .dataframe tbody tr th {\n",
       "        vertical-align: top;\n",
       "    }\n",
       "\n",
       "    .dataframe thead th {\n",
       "        text-align: right;\n",
       "    }\n",
       "</style>\n",
       "<table border=\"1\" class=\"dataframe\">\n",
       "  <thead>\n",
       "    <tr style=\"text-align: right;\">\n",
       "      <th></th>\n",
       "      <th>appsflyer_id</th>\n",
       "      <th>group_name</th>\n",
       "      <th>conversion</th>\n",
       "    </tr>\n",
       "  </thead>\n",
       "  <tbody>\n",
       "    <tr>\n",
       "      <th>0</th>\n",
       "      <td>1661086879432-7974553</td>\n",
       "      <td>Variant_B</td>\n",
       "      <td>0</td>\n",
       "    </tr>\n",
       "    <tr>\n",
       "      <th>1</th>\n",
       "      <td>1661087486104-9146464</td>\n",
       "      <td>Control</td>\n",
       "      <td>0</td>\n",
       "    </tr>\n",
       "    <tr>\n",
       "      <th>2</th>\n",
       "      <td>1661094432574-2868054</td>\n",
       "      <td>Control</td>\n",
       "      <td>0</td>\n",
       "    </tr>\n",
       "    <tr>\n",
       "      <th>3</th>\n",
       "      <td>1661094741056-2438703</td>\n",
       "      <td>Variant_A</td>\n",
       "      <td>0</td>\n",
       "    </tr>\n",
       "    <tr>\n",
       "      <th>4</th>\n",
       "      <td>1661094791534-0107133</td>\n",
       "      <td>Control</td>\n",
       "      <td>0</td>\n",
       "    </tr>\n",
       "  </tbody>\n",
       "</table>\n",
       "</div>"
      ],
      "text/plain": [
       "            appsflyer_id group_name  conversion\n",
       "0  1661086879432-7974553  Variant_B           0\n",
       "1  1661087486104-9146464    Control           0\n",
       "2  1661094432574-2868054    Control           0\n",
       "3  1661094741056-2438703  Variant_A           0\n",
       "4  1661094791534-0107133    Control           0"
      ]
     },
     "execution_count": 15,
     "metadata": {},
     "output_type": "execute_result"
    }
   ],
   "source": [
    "checking.head()"
   ]
  },
  {
   "cell_type": "code",
   "execution_count": null,
   "id": "f86f34c7",
   "metadata": {},
   "outputs": [],
   "source": [
    "#Составляем таблицу сопряженности, при сравнении более двух таблиц не забыть убрать поправку Йетса"
   ]
  },
  {
   "cell_type": "code",
   "execution_count": 16,
   "id": "2335444b",
   "metadata": {},
   "outputs": [
    {
     "data": {
      "text/html": [
       "<div>\n",
       "<style scoped>\n",
       "    .dataframe tbody tr th:only-of-type {\n",
       "        vertical-align: middle;\n",
       "    }\n",
       "\n",
       "    .dataframe tbody tr th {\n",
       "        vertical-align: top;\n",
       "    }\n",
       "\n",
       "    .dataframe thead th {\n",
       "        text-align: right;\n",
       "    }\n",
       "</style>\n",
       "<table border=\"1\" class=\"dataframe\">\n",
       "  <thead>\n",
       "    <tr style=\"text-align: right;\">\n",
       "      <th>conversion</th>\n",
       "      <th>0</th>\n",
       "      <th>1</th>\n",
       "      <th>All</th>\n",
       "    </tr>\n",
       "    <tr>\n",
       "      <th>group_name</th>\n",
       "      <th></th>\n",
       "      <th></th>\n",
       "      <th></th>\n",
       "    </tr>\n",
       "  </thead>\n",
       "  <tbody>\n",
       "    <tr>\n",
       "      <th>Control</th>\n",
       "      <td>1186</td>\n",
       "      <td>75</td>\n",
       "      <td>1261</td>\n",
       "    </tr>\n",
       "    <tr>\n",
       "      <th>Variant_A</th>\n",
       "      <td>1272</td>\n",
       "      <td>98</td>\n",
       "      <td>1370</td>\n",
       "    </tr>\n",
       "    <tr>\n",
       "      <th>Variant_B</th>\n",
       "      <td>1224</td>\n",
       "      <td>99</td>\n",
       "      <td>1323</td>\n",
       "    </tr>\n",
       "    <tr>\n",
       "      <th>All</th>\n",
       "      <td>3682</td>\n",
       "      <td>272</td>\n",
       "      <td>3954</td>\n",
       "    </tr>\n",
       "  </tbody>\n",
       "</table>\n",
       "</div>"
      ],
      "text/plain": [
       "conversion     0    1   All\n",
       "group_name                 \n",
       "Control     1186   75  1261\n",
       "Variant_A   1272   98  1370\n",
       "Variant_B   1224   99  1323\n",
       "All         3682  272  3954"
      ]
     },
     "execution_count": 16,
     "metadata": {},
     "output_type": "execute_result"
    }
   ],
   "source": [
    "table = pd.crosstab(\n",
    "    checking['group_name'],\n",
    "    checking['conversion'],\n",
    "    margins = True\n",
    ")\n",
    "table\n",
    "\n",
    "table1 = pd.crosstab(\n",
    "    checking['group_name'],\n",
    "    checking['conversion']\n",
    ")\n",
    "table"
   ]
  },
  {
   "cell_type": "code",
   "execution_count": null,
   "id": "d7cdea9d",
   "metadata": {},
   "outputs": [],
   "source": [
    "#воспользуемся библиотекой scipy для расчета Хи-квадрат критерия и p-value"
   ]
  },
  {
   "cell_type": "code",
   "execution_count": 17,
   "id": "3ca84610",
   "metadata": {},
   "outputs": [
    {
     "data": {
      "text/plain": [
       "(2.6217930065187356,\n",
       " 0.2695782702219307,\n",
       " 2,\n",
       " array([[1174.2544259 ,   86.7455741 ],\n",
       "        [1275.75619626,   94.24380374],\n",
       "        [1231.98937785,   91.01062215]]))"
      ]
     },
     "execution_count": 17,
     "metadata": {},
     "output_type": "execute_result"
    }
   ],
   "source": [
    "stats.chi2_contingency(table1)"
   ]
  },
  {
   "cell_type": "code",
   "execution_count": 18,
   "id": "f697e281",
   "metadata": {},
   "outputs": [
    {
     "name": "stdout",
     "output_type": "stream",
     "text": [
      "0.2695782702219307\n"
     ]
    }
   ],
   "source": [
    "stat, p_val, df, ef = stats.chi2_contingency(table1)\n",
    "\n",
    "print (p_val)"
   ]
  },
  {
   "cell_type": "code",
   "execution_count": null,
   "id": "ccbdc5be",
   "metadata": {},
   "outputs": [],
   "source": [
    "#p-value > 0.05, а значит принимаем нулевую гипотезу, что результаты теста незначительны. Контрольная группа победила "
   ]
  }
 ],
 "metadata": {
  "kernelspec": {
   "display_name": "Python 3 (ipykernel)",
   "language": "python",
   "name": "python3"
  },
  "language_info": {
   "codemirror_mode": {
    "name": "ipython",
    "version": 3
   },
   "file_extension": ".py",
   "mimetype": "text/x-python",
   "name": "python",
   "nbconvert_exporter": "python",
   "pygments_lexer": "ipython3",
   "version": "3.9.7"
  }
 },
 "nbformat": 4,
 "nbformat_minor": 5
}
